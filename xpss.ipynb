{
 "cells": [
  {
   "cell_type": "code",
   "execution_count": 2,
   "id": "2c208706",
   "metadata": {},
   "outputs": [
    {
     "name": "stdout",
     "output_type": "stream",
     "text": [
      "Defaulting to user installation because normal site-packages is not writeable\n",
      "Collecting pandas\n",
      "  Downloading pandas-2.0.3-cp310-cp310-manylinux_2_17_x86_64.manylinux2014_x86_64.whl (12.3 MB)\n",
      "\u001b[2K     \u001b[38;2;114;156;31m━━━━━━━━━━━━━━━━━━━━━━━━━━━━━━━━━━━━━━━━\u001b[0m \u001b[32m12.3/12.3 MB\u001b[0m \u001b[31m3.7 MB/s\u001b[0m eta \u001b[36m0:00:00\u001b[0mm eta \u001b[36m0:00:01\u001b[0m[36m0:00:01\u001b[0m\n",
      "\u001b[?25hRequirement already satisfied: python-dateutil>=2.8.2 in /gnu/store/92z09gis61wl4fq68ag7z2fr1rc57g7q-python-dateutil-2.8.2/lib/python3.10/site-packages (from pandas) (2.8.2)\n",
      "Requirement already satisfied: pytz>=2020.1 in /gnu/store/85r0w9xam3l67pwqljfv3vrsgwnx42va-python-pytz-2022.1/lib/python3.10/site-packages (from pandas) (2022.1)\n",
      "Collecting tzdata>=2022.1 (from pandas)\n",
      "  Downloading tzdata-2023.3-py2.py3-none-any.whl (341 kB)\n",
      "\u001b[2K     \u001b[38;2;114;156;31m━━━━━━━━━━━━━━━━━━━━━━━━━━━━━━━━━━━━━━━\u001b[0m \u001b[32m341.8/341.8 kB\u001b[0m \u001b[31m1.7 MB/s\u001b[0m eta \u001b[36m0:00:00\u001b[0m[31m1.6 MB/s\u001b[0m eta \u001b[36m0:00:01\u001b[0m\n",
      "\u001b[?25hRequirement already satisfied: numpy>=1.21.0 in /gnu/store/shqkdin15h4lzd2xfjazclf9n4nnb722-python-numpy-1.23.2/lib/python3.10/site-packages (from pandas) (1.23.2)\n",
      "Requirement already satisfied: six>=1.5 in /home/bonk/.local/lib/python3.10/site-packages (from python-dateutil>=2.8.2->pandas) (1.16.0)\n",
      "Installing collected packages: tzdata, pandas\n",
      "Successfully installed pandas-2.0.3 tzdata-2023.3\n",
      "\n",
      "\u001b[1m[\u001b[0m\u001b[34;49mnotice\u001b[0m\u001b[1;39;49m]\u001b[0m\u001b[39;49m A new release of pip is available: \u001b[0m\u001b[31;49m22.2.2\u001b[0m\u001b[39;49m -> \u001b[0m\u001b[32;49m23.2.1\u001b[0m\n",
      "\u001b[1m[\u001b[0m\u001b[34;49mnotice\u001b[0m\u001b[1;39;49m]\u001b[0m\u001b[39;49m To update, run: \u001b[0m\u001b[32;49mpython3 -m pip install --upgrade pip\u001b[0m\n",
      "Note: you may need to restart the kernel to use updated packages.\n"
     ]
    }
   ],
   "source": [
    "pip install pandas\n"
   ]
  },
  {
   "cell_type": "code",
   "execution_count": 3,
   "id": "dd3723a2",
   "metadata": {},
   "outputs": [],
   "source": [
    "#Xplane scenery sorter\n",
    "import pandas as pd"
   ]
  },
  {
   "cell_type": "code",
   "execution_count": 138,
   "id": "3ee6b946",
   "metadata": {},
   "outputs": [],
   "source": [
    "with open('scenery_packs.ini') as f:\n",
    "    lines = f.readlines()\n",
    "    \n",
    "sceneries = list(map(lambda x:x.strip(),list(filter(lambda x:x.startswith(\"SCENERY_PACK\"), lines))))"
   ]
  },
  {
   "cell_type": "code",
   "execution_count": 170,
   "id": "91445386",
   "metadata": {},
   "outputs": [
    {
     "name": "stdout",
     "output_type": "stream",
     "text": [
      "2\n"
     ]
    }
   ],
   "source": [
    "## Load Config File\n",
    "with open('config.txt') as f:\n",
    "    lines = f.readlines()\n",
    "    \n",
    "config = map(lambda x: {\n",
    "    \"cat\": int(x.split()[0]),\n",
    "    \"val\": x.split()[1:][0]\n",
    "    }, \n",
    "    map(lambda x: x.strip(), \n",
    "      filter(lambda x: not x.startswith(\"#\") and len(x)>1, lines)))\n",
    "\n",
    "config = list(config)\n",
    "if \"aaazs_aaaa\".find(config[0]['val']): print(2)"
   ]
  },
  {
   "cell_type": "code",
   "execution_count": 132,
   "id": "78932401",
   "metadata": {},
   "outputs": [
    {
     "data": {
      "text/plain": [
       "'2'"
      ]
     },
     "execution_count": 132,
     "metadata": {},
     "output_type": "execute_result"
    }
   ],
   "source": [
    "\n",
    "# Sort the scenery\n",
    "\n",
    "def findcat(txt, conf):\n",
    "    for x in conf:\n",
    "        if txt.find(x['val'])>=0: return x['cat']\n",
    "    return #f\n",
    "\n",
    "\n",
    "findcat(\"VFRAdsfsd\", config)\n"
   ]
  },
  {
   "cell_type": "code",
   "execution_count": 160,
   "id": "a68beea2",
   "metadata": {},
   "outputs": [
    {
     "data": {
      "text/plain": [
       "['*GLOBAL_AIRPORTS*',\n",
       " 'Custom Scenery/01_MontanaHelicopterDestinations_XP12/',\n",
       " 'Custom Scenery/bwk_hh/',\n",
       " 'Custom Scenery/flyingM/',\n",
       " 'Custom Scenery/Aerosoft - LFMN Nice Cote d Azur X/',\n",
       " 'Custom Scenery/Aerosoft - LPFR Faro/',\n",
       " 'Custom Scenery/X-Plane Airports - KBTV Burlington/',\n",
       " 'Custom Scenery/VFR-Objects_GK_+53+008_D_Bremen_Oldenburg 2.0/',\n",
       " 'Custom Scenery/VFR-Objects_GK_+53+009_D_Hamburg 2.1/',\n",
       " 'Custom Scenery/VFR-Objects_GK_+47+007__+48+007_D_Schwarzwald West 4.1/',\n",
       " 'Custom Scenery/VFR-Objects_GK_+47+011_A-D_Nordalpen Part 1 Innsbruck 4.1/',\n",
       " 'Custom Scenery/X-Plane Landmarks - Berlin and Frankfurt/',\n",
       " 'Custom Scenery/X-Plane Landmarks - Budapest/',\n",
       " 'Custom Scenery/X-Plane Landmarks - Chicago/',\n",
       " 'Custom Scenery/X-Plane Landmarks - Dubai/',\n",
       " 'Custom Scenery/X-Plane Landmarks - Las Vegas/',\n",
       " 'Custom Scenery/X-Plane Landmarks - London/',\n",
       " 'Custom Scenery/X-Plane Landmarks - Los Angeles/',\n",
       " 'Custom Scenery/X-Plane Landmarks - New York/',\n",
       " 'Custom Scenery/X-Plane Landmarks - Paris/',\n",
       " 'Custom Scenery/X-Plane Landmarks - Rio De Janeiro/',\n",
       " 'Custom Scenery/X-Plane Landmarks - Saint Louis/',\n",
       " 'Custom Scenery/X-Plane Landmarks - San Francisco/',\n",
       " 'Custom Scenery/X-Plane Landmarks - Sydney/',\n",
       " 'Custom Scenery/X-Plane Landmarks - Washington DC/',\n",
       " 'Custom Scenery/X-Plane Landmarks - Portland/',\n",
       " 'Custom Scenery/simHeaven_X-World_Europe-0-exclusions/',\n",
       " 'Custom Scenery/simHeaven_X-World_Europe-1-vfr/',\n",
       " 'Custom Scenery/simHeaven_X-World_Europe-2-regions/',\n",
       " 'Custom Scenery/simHeaven_X-World_Europe-3-details/',\n",
       " 'Custom Scenery/simHeaven_X-World_Europe-4-extras/',\n",
       " 'Custom Scenery/simHeaven_X-World_Europe-5-footprints/',\n",
       " 'Custom Scenery/simHeaven_X-World_Europe-6-scenery/',\n",
       " 'Custom Scenery/simHeaven_X-World_Europe-7-forests/',\n",
       " 'Custom Scenery/simHeaven_X-World_Europe-8-network/',\n",
       " 'Custom Scenery/zOrtho4XP_+38+001/',\n",
       " 'Custom Scenery/zOrtho4XP_+39+001/',\n",
       " 'Custom Scenery/zOrtho4XP_+51+013/',\n",
       " 'Custom Scenery/zOrtho4XP_+52+006/',\n",
       " 'Custom Scenery/zOrtho4XP_+52+007/',\n",
       " 'Custom Scenery/zOrtho4XP_+52+008/',\n",
       " 'Custom Scenery/zOrtho4XP_+52+009/',\n",
       " 'Custom Scenery/zOrtho4XP_+52+010/',\n",
       " 'Custom Scenery/zOrtho4XP_+52+011/',\n",
       " 'Custom Scenery/zOrtho4XP_+52+012/',\n",
       " 'Custom Scenery/zOrtho4XP_+52+013/',\n",
       " 'Custom Scenery/zOrtho4XP_+52+014/',\n",
       " 'Custom Scenery/zOrtho4XP_+53+009/',\n",
       " 'Custom Scenery/zOrtho4XP_+53+010/',\n",
       " 'Custom Scenery/zOrtho4XP_+39+002/',\n",
       " 'Custom Scenery/zOrtho4XP_+39+003/',\n",
       " 'Custom Scenery/zOrtho4XP_+39+004/',\n",
       " 'Custom Scenery/zOrtho4XP_+40+003/',\n",
       " 'Custom Scenery/zOrtho4XP_+40+004/',\n",
       " 'Custom Scenery/zOrtho4XP_+43+005/',\n",
       " 'Custom Scenery/zOrtho4XP_+43+006/',\n",
       " 'Custom Scenery/zOrtho4XP_+51+012/',\n",
       " 'Custom Scenery/zOrtho4XP_+47+011/',\n",
       " 'Custom Scenery/yAutoOrtho_Overlays/',\n",
       " 'Custom Scenery/z_ao_eur/',\n",
       " 'Custom Scenery/z_autoortho/',\n",
       " 'Custom Scenery/3D_people_library/',\n",
       " 'Custom Scenery/AR_Library/',\n",
       " 'Custom Scenery/BS2001 Object Library/',\n",
       " 'Custom Scenery/CCVA022_Object_Library/',\n",
       " 'Custom Scenery/CDB-Library/',\n",
       " 'Custom Scenery/ff_library/',\n",
       " 'Custom Scenery/ff_library_extended_LOD/',\n",
       " 'Custom Scenery/gt_library/',\n",
       " 'Custom Scenery/Helipad Pack 1.0/',\n",
       " 'Custom Scenery/Helipads Pack 2.0/',\n",
       " 'Custom Scenery/MisterX_Library/',\n",
       " 'Custom Scenery/OpenSceneryX/',\n",
       " 'Custom Scenery/pm_library/',\n",
       " 'Custom Scenery/PuF_Libs/',\n",
       " 'Custom Scenery/RA_Library/',\n",
       " 'Custom Scenery/RD_Library/',\n",
       " 'Custom Scenery/RescueX_Lib/',\n",
       " 'Custom Scenery/RescueX_Terrain/',\n",
       " 'Custom Scenery/RE_Library/',\n",
       " 'Custom Scenery/ruscenery/',\n",
       " 'Custom Scenery/simHeaven_X-World_Vegetation_Library/',\n",
       " 'Custom Scenery/Swisscreations - Object for helicopters operations/',\n",
       " 'Custom Scenery/THE-FRUIT-STAND Aircraft Library v3.0/',\n",
       " 'Custom Scenery/The_Handy_Objects_Library/']"
      ]
     },
     "execution_count": 160,
     "metadata": {},
     "output_type": "execute_result"
    }
   ],
   "source": [
    "folders = list(map(lambda x: \" \".join(x.split()[1:]), sceneries))\n",
    "folders"
   ]
  },
  {
   "cell_type": "code",
   "execution_count": 171,
   "id": "4e4a020f",
   "metadata": {},
   "outputs": [],
   "source": [
    "data = pd.DataFrame(data=list(map(lambda x: [findcat(x, config), x], folders)),\n",
    "             columns=['order', 'folder'])"
   ]
  },
  {
   "cell_type": "code",
   "execution_count": 179,
   "id": "ed96024a",
   "metadata": {},
   "outputs": [],
   "source": [
    "result = data.sort_values(by=['order', 'folder']).drop_duplicates(subset='folder').values"
   ]
  },
  {
   "cell_type": "code",
   "execution_count": 184,
   "id": "83c9311b",
   "metadata": {},
   "outputs": [],
   "source": [
    "scen_disabled = list(map(lambda x: x[1], list(filter(lambda x: x[0]<0, result))))\n",
    "scen_enabled = list(map(lambda x: x[1], list(filter(lambda x: x[0]>=0, result))))"
   ]
  },
  {
   "cell_type": "code",
   "execution_count": 192,
   "id": "aaa2e8e7",
   "metadata": {},
   "outputs": [
    {
     "name": "stdout",
     "output_type": "stream",
     "text": [
      "SCENERY_DISABLED Custom Scenery/yAutoOrtho_Overlays/\n",
      "SCENERY_DISABLED Custom Scenery/z_ao_eur/\n",
      "SCENERY_DISABLED Custom Scenery/z_autoortho/\n",
      "SCENERY *GLOBAL_AIRPORTS*\n",
      "SCENERY Custom Scenery/Aerosoft - LFMN Nice Cote d Azur X/\n",
      "SCENERY Custom Scenery/Aerosoft - LPFR Faro/\n",
      "SCENERY Custom Scenery/X-Plane Airports - KBTV Burlington/\n",
      "SCENERY Custom Scenery/VFR-Objects_GK_+47+007__+48+007_D_Schwarzwald West 4.1/\n",
      "SCENERY Custom Scenery/VFR-Objects_GK_+47+011_A-D_Nordalpen Part 1 Innsbruck 4.1/\n",
      "SCENERY Custom Scenery/VFR-Objects_GK_+53+008_D_Bremen_Oldenburg 2.0/\n",
      "SCENERY Custom Scenery/VFR-Objects_GK_+53+009_D_Hamburg 2.1/\n",
      "SCENERY Custom Scenery/X-Plane Landmarks - Berlin and Frankfurt/\n",
      "SCENERY Custom Scenery/X-Plane Landmarks - Budapest/\n",
      "SCENERY Custom Scenery/X-Plane Landmarks - Chicago/\n",
      "SCENERY Custom Scenery/X-Plane Landmarks - Dubai/\n",
      "SCENERY Custom Scenery/X-Plane Landmarks - Las Vegas/\n",
      "SCENERY Custom Scenery/X-Plane Landmarks - London/\n",
      "SCENERY Custom Scenery/X-Plane Landmarks - Los Angeles/\n",
      "SCENERY Custom Scenery/X-Plane Landmarks - New York/\n",
      "SCENERY Custom Scenery/X-Plane Landmarks - Paris/\n",
      "SCENERY Custom Scenery/X-Plane Landmarks - Portland/\n",
      "SCENERY Custom Scenery/X-Plane Landmarks - Rio De Janeiro/\n",
      "SCENERY Custom Scenery/X-Plane Landmarks - Saint Louis/\n",
      "SCENERY Custom Scenery/X-Plane Landmarks - San Francisco/\n",
      "SCENERY Custom Scenery/X-Plane Landmarks - Sydney/\n",
      "SCENERY Custom Scenery/X-Plane Landmarks - Washington DC/\n",
      "SCENERY Custom Scenery/simHeaven_X-World_Europe-0-exclusions/\n",
      "SCENERY Custom Scenery/simHeaven_X-World_Europe-1-vfr/\n",
      "SCENERY Custom Scenery/simHeaven_X-World_Europe-2-regions/\n",
      "SCENERY Custom Scenery/simHeaven_X-World_Europe-3-details/\n",
      "SCENERY Custom Scenery/simHeaven_X-World_Europe-4-extras/\n",
      "SCENERY Custom Scenery/simHeaven_X-World_Europe-5-footprints/\n",
      "SCENERY Custom Scenery/simHeaven_X-World_Europe-6-scenery/\n",
      "SCENERY Custom Scenery/simHeaven_X-World_Europe-7-forests/\n",
      "SCENERY Custom Scenery/simHeaven_X-World_Europe-8-network/\n",
      "SCENERY Custom Scenery/simHeaven_X-World_Vegetation_Library/\n",
      "SCENERY Custom Scenery/zOrtho4XP_+38+001/\n",
      "SCENERY Custom Scenery/zOrtho4XP_+39+001/\n",
      "SCENERY Custom Scenery/zOrtho4XP_+39+002/\n",
      "SCENERY Custom Scenery/zOrtho4XP_+39+003/\n",
      "SCENERY Custom Scenery/zOrtho4XP_+39+004/\n",
      "SCENERY Custom Scenery/zOrtho4XP_+40+003/\n",
      "SCENERY Custom Scenery/zOrtho4XP_+40+004/\n",
      "SCENERY Custom Scenery/zOrtho4XP_+43+005/\n",
      "SCENERY Custom Scenery/zOrtho4XP_+43+006/\n",
      "SCENERY Custom Scenery/zOrtho4XP_+47+011/\n",
      "SCENERY Custom Scenery/zOrtho4XP_+51+012/\n",
      "SCENERY Custom Scenery/zOrtho4XP_+51+013/\n",
      "SCENERY Custom Scenery/zOrtho4XP_+52+006/\n",
      "SCENERY Custom Scenery/zOrtho4XP_+52+007/\n",
      "SCENERY Custom Scenery/zOrtho4XP_+52+008/\n",
      "SCENERY Custom Scenery/zOrtho4XP_+52+009/\n",
      "SCENERY Custom Scenery/zOrtho4XP_+52+010/\n",
      "SCENERY Custom Scenery/zOrtho4XP_+52+011/\n",
      "SCENERY Custom Scenery/zOrtho4XP_+52+012/\n",
      "SCENERY Custom Scenery/zOrtho4XP_+52+013/\n",
      "SCENERY Custom Scenery/zOrtho4XP_+52+014/\n",
      "SCENERY Custom Scenery/zOrtho4XP_+53+009/\n",
      "SCENERY Custom Scenery/zOrtho4XP_+53+010/\n",
      "SCENERY Custom Scenery/01_MontanaHelicopterDestinations_XP12/\n",
      "SCENERY Custom Scenery/3D_people_library/\n",
      "SCENERY Custom Scenery/AR_Library/\n",
      "SCENERY Custom Scenery/BS2001 Object Library/\n",
      "SCENERY Custom Scenery/CCVA022_Object_Library/\n",
      "SCENERY Custom Scenery/CDB-Library/\n",
      "SCENERY Custom Scenery/Helipad Pack 1.0/\n",
      "SCENERY Custom Scenery/Helipads Pack 2.0/\n",
      "SCENERY Custom Scenery/MisterX_Library/\n",
      "SCENERY Custom Scenery/OpenSceneryX/\n",
      "SCENERY Custom Scenery/PuF_Libs/\n",
      "SCENERY Custom Scenery/RA_Library/\n",
      "SCENERY Custom Scenery/RD_Library/\n",
      "SCENERY Custom Scenery/RE_Library/\n",
      "SCENERY Custom Scenery/RescueX_Lib/\n",
      "SCENERY Custom Scenery/RescueX_Terrain/\n",
      "SCENERY Custom Scenery/Swisscreations - Object for helicopters operations/\n",
      "SCENERY Custom Scenery/THE-FRUIT-STAND Aircraft Library v3.0/\n",
      "SCENERY Custom Scenery/The_Handy_Objects_Library/\n",
      "SCENERY Custom Scenery/bwk_hh/\n",
      "SCENERY Custom Scenery/ff_library/\n",
      "SCENERY Custom Scenery/ff_library_extended_LOD/\n",
      "SCENERY Custom Scenery/flyingM/\n",
      "SCENERY Custom Scenery/gt_library/\n",
      "SCENERY Custom Scenery/pm_library/\n",
      "SCENERY Custom Scenery/ruscenery/\n"
     ]
    }
   ],
   "source": [
    "inistr = list(map(lambda x: \"SCENERY_DISABLED \"+x, scen_disabled)) + list(map(lambda x: \"SCENERY \"+x, scen_enabled))\n",
    "print('\\n'.join(inistr))"
   ]
  }
 ],
 "metadata": {
  "kernelspec": {
   "display_name": "Python 3 (ipykernel)",
   "language": "/gnu/store/dy3xh053ahkhrp2jamggq8cpsyvp8mg0-python-3.10.7/bin/python3",
   "name": "python3"
  },
  "language_info": {
   "codemirror_mode": {
    "name": "ipython",
    "version": 3
   },
   "file_extension": ".py",
   "mimetype": "text/x-python",
   "name": "python",
   "nbconvert_exporter": "python",
   "pygments_lexer": "ipython3",
   "version": "3.10.7"
  }
 },
 "nbformat": 4,
 "nbformat_minor": 5
}
